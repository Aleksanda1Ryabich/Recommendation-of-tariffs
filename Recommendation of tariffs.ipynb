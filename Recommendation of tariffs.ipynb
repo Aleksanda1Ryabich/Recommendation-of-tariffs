{
 "cells": [
  {
   "cell_type": "markdown",
   "metadata": {},
   "source": [
    "# Рекомендация тарифов"
   ]
  },
  {
   "cell_type": "markdown",
   "metadata": {},
   "source": [
    "Имеются данные о поведении клиентов, которые уже перешли на эти тарифы «Смарт» или «Ультра». Необходимо построить модель для задачи классификации, которая выберет подходящий тариф. Следует построить модель с максимально большим значением accuracy и проверить на  тестовой выборке.\n",
    "\n",
    "План действий:\n",
    "1. Изучить данные.\n",
    "2. Разделить исходные данные на обучающую, валидационную и тестовую выборки.\n",
    "3. Исследовать качество разных моделей, меняя гиперпараметры.\n",
    "4. Проверьте качество модели на тестовой выборке."
   ]
  },
  {
   "cell_type": "markdown",
   "metadata": {},
   "source": [
    "## Откройте и изучите файл"
   ]
  },
  {
   "cell_type": "code",
   "execution_count": 1,
   "metadata": {},
   "outputs": [],
   "source": [
    "import pandas\n",
    "from sklearn.model_selection import train_test_split\n",
    "\n",
    "import pandas as pd\n",
    "import os\n",
    "from pathlib import Path\n",
    "from sklearn.metrics import accuracy_score\n",
    "from sklearn.model_selection import train_test_split\n",
    "\n",
    "from sklearn.tree import DecisionTreeClassifier\n",
    "from sklearn.linear_model import LogisticRegression\n",
    "from sklearn.ensemble import RandomForestClassifier\n",
    "\n",
    "from sklearn.metrics import mean_squared_error\n",
    "\n",
    "import warnings\n",
    "warnings.filterwarnings(\"ignore\")"
   ]
  },
  {
   "cell_type": "code",
   "execution_count": 2,
   "metadata": {},
   "outputs": [
    {
     "data": {
      "text/html": [
       "<div>\n",
       "<style scoped>\n",
       "    .dataframe tbody tr th:only-of-type {\n",
       "        vertical-align: middle;\n",
       "    }\n",
       "\n",
       "    .dataframe tbody tr th {\n",
       "        vertical-align: top;\n",
       "    }\n",
       "\n",
       "    .dataframe thead th {\n",
       "        text-align: right;\n",
       "    }\n",
       "</style>\n",
       "<table border=\"1\" class=\"dataframe\">\n",
       "  <thead>\n",
       "    <tr style=\"text-align: right;\">\n",
       "      <th></th>\n",
       "      <th>calls</th>\n",
       "      <th>minutes</th>\n",
       "      <th>messages</th>\n",
       "      <th>mb_used</th>\n",
       "      <th>is_ultra</th>\n",
       "    </tr>\n",
       "  </thead>\n",
       "  <tbody>\n",
       "    <tr>\n",
       "      <th>0</th>\n",
       "      <td>40.0</td>\n",
       "      <td>311.90</td>\n",
       "      <td>83.0</td>\n",
       "      <td>19915.42</td>\n",
       "      <td>0</td>\n",
       "    </tr>\n",
       "    <tr>\n",
       "      <th>1</th>\n",
       "      <td>85.0</td>\n",
       "      <td>516.75</td>\n",
       "      <td>56.0</td>\n",
       "      <td>22696.96</td>\n",
       "      <td>0</td>\n",
       "    </tr>\n",
       "    <tr>\n",
       "      <th>2</th>\n",
       "      <td>77.0</td>\n",
       "      <td>467.66</td>\n",
       "      <td>86.0</td>\n",
       "      <td>21060.45</td>\n",
       "      <td>0</td>\n",
       "    </tr>\n",
       "    <tr>\n",
       "      <th>3</th>\n",
       "      <td>106.0</td>\n",
       "      <td>745.53</td>\n",
       "      <td>81.0</td>\n",
       "      <td>8437.39</td>\n",
       "      <td>1</td>\n",
       "    </tr>\n",
       "    <tr>\n",
       "      <th>4</th>\n",
       "      <td>66.0</td>\n",
       "      <td>418.74</td>\n",
       "      <td>1.0</td>\n",
       "      <td>14502.75</td>\n",
       "      <td>0</td>\n",
       "    </tr>\n",
       "    <tr>\n",
       "      <th>5</th>\n",
       "      <td>58.0</td>\n",
       "      <td>344.56</td>\n",
       "      <td>21.0</td>\n",
       "      <td>15823.37</td>\n",
       "      <td>0</td>\n",
       "    </tr>\n",
       "    <tr>\n",
       "      <th>6</th>\n",
       "      <td>57.0</td>\n",
       "      <td>431.64</td>\n",
       "      <td>20.0</td>\n",
       "      <td>3738.90</td>\n",
       "      <td>1</td>\n",
       "    </tr>\n",
       "    <tr>\n",
       "      <th>7</th>\n",
       "      <td>15.0</td>\n",
       "      <td>132.40</td>\n",
       "      <td>6.0</td>\n",
       "      <td>21911.60</td>\n",
       "      <td>0</td>\n",
       "    </tr>\n",
       "    <tr>\n",
       "      <th>8</th>\n",
       "      <td>7.0</td>\n",
       "      <td>43.39</td>\n",
       "      <td>3.0</td>\n",
       "      <td>2538.67</td>\n",
       "      <td>1</td>\n",
       "    </tr>\n",
       "    <tr>\n",
       "      <th>9</th>\n",
       "      <td>90.0</td>\n",
       "      <td>665.41</td>\n",
       "      <td>38.0</td>\n",
       "      <td>17358.61</td>\n",
       "      <td>0</td>\n",
       "    </tr>\n",
       "  </tbody>\n",
       "</table>\n",
       "</div>"
      ],
      "text/plain": [
       "   calls  minutes  messages   mb_used  is_ultra\n",
       "0   40.0   311.90      83.0  19915.42         0\n",
       "1   85.0   516.75      56.0  22696.96         0\n",
       "2   77.0   467.66      86.0  21060.45         0\n",
       "3  106.0   745.53      81.0   8437.39         1\n",
       "4   66.0   418.74       1.0  14502.75         0\n",
       "5   58.0   344.56      21.0  15823.37         0\n",
       "6   57.0   431.64      20.0   3738.90         1\n",
       "7   15.0   132.40       6.0  21911.60         0\n",
       "8    7.0    43.39       3.0   2538.67         1\n",
       "9   90.0   665.41      38.0  17358.61         0"
      ]
     },
     "execution_count": 2,
     "metadata": {},
     "output_type": "execute_result"
    }
   ],
   "source": [
    "df = pandas.read_csv('/datasets/users_behavior.csv')\n",
    "\n",
    "df.head(10)"
   ]
  },
  {
   "cell_type": "code",
   "execution_count": 3,
   "metadata": {},
   "outputs": [
    {
     "data": {
      "text/plain": [
       "(3214, 5)"
      ]
     },
     "execution_count": 3,
     "metadata": {},
     "output_type": "execute_result"
    }
   ],
   "source": [
    "df.shape"
   ]
  },
  {
   "cell_type": "markdown",
   "metadata": {},
   "source": [
    "Датафрейм имеет 3214 строк и 5 столбцов.\n",
    "Столбец \"is_ultra\" является целевым признаком. Необходимо создать модель, которая будет присваивать значение 1 пользователям, которым стоит предложить сменить тариф на \"Ультра\".\n",
    "Поставлена задача классификации."
   ]
  },
  {
   "cell_type": "markdown",
   "metadata": {},
   "source": [
    "## Разбейте данные на выборки"
   ]
  },
  {
   "cell_type": "code",
   "execution_count": 4,
   "metadata": {},
   "outputs": [],
   "source": [
    "df_train, df_valid = train_test_split(df, test_size=0.4, random_state=1)\n",
    "df_valid, df_test = train_test_split(df_valid, test_size=0.5, random_state=1)"
   ]
  },
  {
   "cell_type": "code",
   "execution_count": 5,
   "metadata": {},
   "outputs": [
    {
     "data": {
      "text/plain": [
       "((1928, 5), (643, 5), (643, 5))"
      ]
     },
     "execution_count": 5,
     "metadata": {},
     "output_type": "execute_result"
    }
   ],
   "source": [
    "#Код ревьюера\n",
    "df_train.shape, df_test.shape, df_valid .shape"
   ]
  },
  {
   "cell_type": "markdown",
   "metadata": {},
   "source": [
    "Обучающая выборка 60%, валидационная и тестовая по 20%."
   ]
  },
  {
   "cell_type": "markdown",
   "metadata": {},
   "source": [
    "## Исследуйте модели"
   ]
  },
  {
   "cell_type": "code",
   "execution_count": 6,
   "metadata": {},
   "outputs": [],
   "source": [
    "#переменные для признаков и целевого признака\n",
    "features_train = df.drop(['is_ultra'], axis=1)\n",
    "target_train = df['is_ultra']\n",
    "features_valid = df.drop(['is_ultra'], axis=1)\n",
    "target_valid = df['is_ultra']\n",
    "features_test = df.drop(['is_ultra'], axis=1)\n",
    "target_test = df['is_ultra']"
   ]
  },
  {
   "cell_type": "code",
   "execution_count": 7,
   "metadata": {},
   "outputs": [],
   "source": [
    "#функция для подсчета точности модели на валидационной выборке\n",
    "def show_accuracy_score(model):\n",
    "    predictions_valid = model.predict(features_valid)\n",
    "    return accuracy_score(target_valid, predictions_valid)"
   ]
  },
  {
   "cell_type": "markdown",
   "metadata": {},
   "source": [
    "Применим 3 модели: дерево решений, случайный лес, логистическая регрессия."
   ]
  },
  {
   "cell_type": "markdown",
   "metadata": {},
   "source": [
    "Дерево решений"
   ]
  },
  {
   "cell_type": "code",
   "execution_count": 8,
   "metadata": {},
   "outputs": [
    {
     "name": "stdout",
     "output_type": "stream",
     "text": [
      "depth = 1  \\ accuracy = 0.752644679527069\n",
      "depth = 3  \\ accuracy = 0.798070939639079\n",
      "depth = 5  \\ accuracy = 0.8170504044803982\n",
      "depth = 7  \\ accuracy = 0.8397635345364033\n",
      "depth = 9  \\ accuracy = 0.8637212196639701\n",
      "depth = 11  \\ accuracy = 0.8855009334163036\n",
      "depth = 13  \\ accuracy = 0.9079029247044181\n",
      "depth = 15  \\ accuracy = 0.9327940261356565\n",
      "depth = 17  \\ accuracy = 0.9601742377100186\n",
      "depth = 19  \\ accuracy = 0.9816428126944617\n"
     ]
    }
   ],
   "source": [
    "from sklearn.tree import DecisionTreeClassifier\n",
    "for depth in range(1, 20, 2):\n",
    "    model_tree = DecisionTreeClassifier(random_state=1, max_depth=depth,\n",
    "            criterion='gini',\n",
    "            min_impurity_decrease=0.0, min_samples_leaf=1, min_samples_split=2,\n",
    "            min_weight_fraction_leaf=0.0, splitter='best')# модель с заданной глубиной дерева\n",
    "    model_tree.fit(features_train, target_train) # обучуние модели\n",
    "    print('depth =', depth, ' \\ accuracy =', show_accuracy_score(model_tree))"
   ]
  },
  {
   "cell_type": "markdown",
   "metadata": {},
   "source": [
    "Лучший результат при параметре глубины: depth = 19 \\ accuracy = 0.9816428126944617"
   ]
  },
  {
   "cell_type": "markdown",
   "metadata": {},
   "source": [
    "Случайный лес"
   ]
  },
  {
   "cell_type": "code",
   "execution_count": 9,
   "metadata": {},
   "outputs": [
    {
     "name": "stdout",
     "output_type": "stream",
     "text": [
      "n_estimators = 10  / accuracy_score = 0.8680771624144369\n",
      "n_estimators = 20  / accuracy_score = 0.8708774113254512\n",
      "n_estimators = 30  / accuracy_score = 0.8714996888612321\n",
      "n_estimators = 40  / accuracy_score = 0.8736776602364654\n",
      "n_estimators = 50  / accuracy_score = 0.8752333540759178\n",
      "n_estimators = 60  / accuracy_score = 0.8746110765401369\n",
      "n_estimators = 70  / accuracy_score = 0.8758556316116988\n",
      "n_estimators = 80  / accuracy_score = 0.8752333540759178\n",
      "n_estimators = 90  / accuracy_score = 0.8746110765401369\n",
      "n_estimators = 100  / accuracy_score = 0.8746110765401369\n"
     ]
    }
   ],
   "source": [
    "for estim in range(10, 101, 10):\n",
    "    model_forest = RandomForestClassifier(n_estimators=estim, max_depth=9, random_state=1,\n",
    "            criterion='gini',\n",
    "            min_impurity_decrease=0.0, min_samples_leaf=1, min_samples_split=2,\n",
    "            min_weight_fraction_leaf=0.0)\n",
    "    model_forest.fit(features_train, target_train)\n",
    "    print('n_estimators =', estim, ' / accuracy_score =', show_accuracy_score(model_forest))"
   ]
  },
  {
   "cell_type": "markdown",
   "metadata": {},
   "source": [
    "Лучший результат при параметре количества деревьев и глубины 9(взяли с прошлого удачного показателя): depth = 9 / n_estimators = 70 / accuracy_score = 0.8758556316116988. Хуже, чем в дереве решений."
   ]
  },
  {
   "cell_type": "markdown",
   "metadata": {},
   "source": [
    "Логистическая регрессия"
   ]
  },
  {
   "cell_type": "code",
   "execution_count": 10,
   "metadata": {},
   "outputs": [
    {
     "name": "stdout",
     "output_type": "stream",
     "text": [
      "newton-cg :  0.7479775980087119\n",
      "lbfgs :  0.7479775980087119\n",
      "liblinear :  0.7423771001866832\n",
      "sag :  0.6938394523957685\n",
      "saga :  0.693528313627878\n"
     ]
    }
   ],
   "source": [
    "solvers = ['newton-cg', 'lbfgs', 'liblinear', 'sag', 'saga']\n",
    "def logistic_regression(solver=solvers):\n",
    "    model = LogisticRegression(solver=solver, random_state=1)\n",
    "    model.fit(features_train, target_train)\n",
    "    return show_accuracy_score(model)\n",
    "for solver in solvers:\n",
    "    print(solver, ': ', logistic_regression(solver=solver))"
   ]
  },
  {
   "cell_type": "markdown",
   "metadata": {},
   "source": [
    "Лучший результат дают параметры newton-cg и lbfgs: 0.7479775980087119"
   ]
  },
  {
   "cell_type": "markdown",
   "metadata": {},
   "source": [
    "Модели с параметрами дали лучший результат среди других параметров:\n",
    "\n",
    "Decision Tree(depth = 9): accuracy =  0.9816428126944617,\n",
    "Random Forest(depth = 9 / n_estimators = 70): 0.8758556316116988,\n",
    "Logistic Regression(solver='newton-cg'): accuracy = 0.7479775980087119.\n",
    "\n",
    "В итоге мы выбираем Случайный лес с параметром глубины 9. Дерево решений показывает почти идеальный результат, который вызывает подозрение, поэтому не учитываем."
   ]
  },
  {
   "cell_type": "markdown",
   "metadata": {},
   "source": [
    "## Проверьте модель на тестовой выборке"
   ]
  },
  {
   "cell_type": "code",
   "execution_count": 11,
   "metadata": {},
   "outputs": [
    {
     "data": {
      "text/plain": [
       "0.8637212196639701"
      ]
     },
     "execution_count": 11,
     "metadata": {},
     "output_type": "execute_result"
    }
   ],
   "source": [
    "model = DecisionTreeClassifier(max_depth=9, random_state=1)\n",
    "model.fit(features_train, target_train)\n",
    "predictions_test = model.predict(features_test)\n",
    "accuracy_score(target_test, predictions_test)"
   ]
  },
  {
   "cell_type": "markdown",
   "metadata": {},
   "source": [
    "На тестовой выборке выбранная модель показывает результат близкий к валидационной, но не больше. Это означает отсутствие проблем с переобучением модели."
   ]
  },
  {
   "cell_type": "markdown",
   "metadata": {},
   "source": [
    "## Проверьте модели на адекватность"
   ]
  },
  {
   "cell_type": "code",
   "execution_count": 12,
   "metadata": {},
   "outputs": [
    {
     "data": {
      "text/plain": [
       "0.0"
      ]
     },
     "execution_count": 12,
     "metadata": {},
     "output_type": "execute_result"
    }
   ],
   "source": [
    "import numpy as np\n",
    "from sklearn.dummy import DummyRegressor\n",
    "dummy_regr = DummyRegressor(strategy=\"mean\")\n",
    "dummy_regr.fit(features_train, target_train)\n",
    "DummyRegressor()\n",
    "dummy_regr.predict(features_train)\n",
    "dummy_regr.score(features_train, target_train)\n"
   ]
  },
  {
   "cell_type": "code",
   "execution_count": 14,
   "metadata": {},
   "outputs": [
    {
     "data": {
      "text/plain": [
       "0.693528313627878"
      ]
     },
     "execution_count": 14,
     "metadata": {},
     "output_type": "execute_result"
    }
   ],
   "source": [
    "# Код ревьюера\n",
    "from sklearn.dummy import DummyClassifier\n",
    "dummy_cl = DummyClassifier(strategy=\"most_frequent\", random_state=0)\n",
    "dummy_cl.fit(features_train, target_train)\n",
    "dummy_cl.score(features_train, target_train)"
   ]
  },
  {
   "cell_type": "markdown",
   "metadata": {},
   "source": [
    "Было проведено исследование, чтобы выявить модель для задачи классификации, которая выберет подходящий тариф для новых пользователей. Входные данные - данные о поведении клиентов, которые уже перешли на тарифы «Смарт» или «Ультра». Перед проведением исследования была поставлена задача - постройте модель с максимально большим значением accuracy.\n",
    "\n",
    "Модели дали лучшие результаты:\n",
    "\n",
    "Decision Tree(depth = 9): accuracy = 0.9816428126944617, \n",
    "Random Forest(depth = 9 / n_estimators = 70): 0.8758556316116988, \n",
    "Logistic Regression(solver='newton-cg'): accuracy = 0.7479775980087119.\n",
    "\n",
    "Следует выбирать модель Случайный лес с параметром глубины 9, которая показала лучшее значение. Также на тестовой выборке данная модель показала отсутствие проблем с переобучением модели. \n"
   ]
  }
 ],
 "metadata": {
  "ExecuteTimeLog": [
   {
    "duration": 532,
    "start_time": "2023-02-19T06:24:08.779Z"
   },
   {
    "duration": 97,
    "start_time": "2023-02-19T06:24:23.763Z"
   },
   {
    "duration": 40,
    "start_time": "2023-02-19T06:24:38.998Z"
   },
   {
    "duration": 732,
    "start_time": "2023-02-19T06:30:47.969Z"
   },
   {
    "duration": 39,
    "start_time": "2023-02-19T06:38:18.606Z"
   },
   {
    "duration": 67,
    "start_time": "2023-02-19T06:38:39.353Z"
   },
   {
    "duration": 38,
    "start_time": "2023-02-19T06:38:44.484Z"
   },
   {
    "duration": 38,
    "start_time": "2023-02-19T06:38:58.131Z"
   },
   {
    "duration": 57,
    "start_time": "2023-02-19T07:19:55.156Z"
   },
   {
    "duration": 43,
    "start_time": "2023-02-19T07:19:59.375Z"
   },
   {
    "duration": 4,
    "start_time": "2023-02-19T07:20:00.484Z"
   },
   {
    "duration": 2,
    "start_time": "2023-02-19T07:20:01.445Z"
   },
   {
    "duration": 21,
    "start_time": "2023-02-19T07:20:40.489Z"
   },
   {
    "duration": 44,
    "start_time": "2023-02-19T11:51:06.250Z"
   },
   {
    "duration": 614,
    "start_time": "2023-02-19T11:51:20.020Z"
   },
   {
    "duration": 5,
    "start_time": "2023-02-19T11:51:20.636Z"
   },
   {
    "duration": 719,
    "start_time": "2023-02-19T11:51:20.642Z"
   },
   {
    "duration": 4,
    "start_time": "2023-02-19T11:51:21.364Z"
   },
   {
    "duration": 26,
    "start_time": "2023-02-19T11:51:21.370Z"
   },
   {
    "duration": 5,
    "start_time": "2023-02-19T11:51:21.397Z"
   },
   {
    "duration": 3,
    "start_time": "2023-02-19T11:51:55.832Z"
   },
   {
    "duration": 38,
    "start_time": "2023-02-19T11:51:56.763Z"
   },
   {
    "duration": 3,
    "start_time": "2023-02-19T11:51:57.767Z"
   },
   {
    "duration": 36,
    "start_time": "2023-02-19T11:54:50.059Z"
   },
   {
    "duration": 3,
    "start_time": "2023-02-19T11:54:51.145Z"
   },
   {
    "duration": 6,
    "start_time": "2023-02-19T11:54:54.013Z"
   },
   {
    "duration": 12,
    "start_time": "2023-02-19T12:42:42.738Z"
   },
   {
    "duration": 45,
    "start_time": "2023-02-19T12:42:43.322Z"
   },
   {
    "duration": 3,
    "start_time": "2023-02-19T12:42:48.420Z"
   },
   {
    "duration": 6,
    "start_time": "2023-02-19T12:42:50.577Z"
   },
   {
    "duration": 6,
    "start_time": "2023-02-19T12:42:52.881Z"
   },
   {
    "duration": 3,
    "start_time": "2023-02-19T12:42:55.428Z"
   },
   {
    "duration": 51,
    "start_time": "2023-02-20T06:15:16.762Z"
   },
   {
    "duration": 1097,
    "start_time": "2023-02-20T06:15:32.209Z"
   },
   {
    "duration": 82,
    "start_time": "2023-02-20T06:15:33.307Z"
   },
   {
    "duration": 4,
    "start_time": "2023-02-20T06:15:33.390Z"
   },
   {
    "duration": 8,
    "start_time": "2023-02-20T06:15:33.396Z"
   },
   {
    "duration": 6,
    "start_time": "2023-02-20T06:15:33.405Z"
   },
   {
    "duration": 6,
    "start_time": "2023-02-20T06:15:33.412Z"
   },
   {
    "duration": 134,
    "start_time": "2023-02-20T06:15:33.419Z"
   },
   {
    "duration": 4,
    "start_time": "2023-02-20T06:15:43.389Z"
   },
   {
    "duration": 38,
    "start_time": "2023-02-20T06:15:44.283Z"
   },
   {
    "duration": 5,
    "start_time": "2023-02-20T06:15:47.866Z"
   },
   {
    "duration": 6,
    "start_time": "2023-02-20T06:15:50.753Z"
   },
   {
    "duration": 5,
    "start_time": "2023-02-20T06:15:54.376Z"
   },
   {
    "duration": 3,
    "start_time": "2023-02-20T06:15:55.003Z"
   },
   {
    "duration": 132,
    "start_time": "2023-02-20T06:15:58.095Z"
   },
   {
    "duration": 73,
    "start_time": "2023-02-22T14:48:38.934Z"
   },
   {
    "duration": 1095,
    "start_time": "2023-02-22T14:49:12.130Z"
   },
   {
    "duration": 74,
    "start_time": "2023-02-22T14:49:13.227Z"
   },
   {
    "duration": 4,
    "start_time": "2023-02-22T14:49:13.303Z"
   },
   {
    "duration": 12,
    "start_time": "2023-02-22T14:49:13.309Z"
   },
   {
    "duration": 6,
    "start_time": "2023-02-22T14:49:13.322Z"
   },
   {
    "duration": 20,
    "start_time": "2023-02-22T14:49:13.329Z"
   },
   {
    "duration": 143,
    "start_time": "2023-02-22T14:49:13.351Z"
   },
   {
    "duration": 116,
    "start_time": "2023-02-22T14:49:13.496Z"
   },
   {
    "duration": 31,
    "start_time": "2023-02-22T14:50:34.555Z"
   },
   {
    "duration": 282,
    "start_time": "2023-02-22T14:55:29.191Z"
   },
   {
    "duration": 342,
    "start_time": "2023-02-22T14:59:42.268Z"
   },
   {
    "duration": 233,
    "start_time": "2023-02-22T14:59:50.680Z"
   },
   {
    "duration": 2673,
    "start_time": "2023-02-22T15:01:51.209Z"
   },
   {
    "duration": 2065,
    "start_time": "2023-02-22T15:07:50.270Z"
   },
   {
    "duration": 5,
    "start_time": "2023-02-22T15:09:26.554Z"
   },
   {
    "duration": 6,
    "start_time": "2023-02-22T15:09:30.587Z"
   },
   {
    "duration": 5,
    "start_time": "2023-02-22T15:09:32.187Z"
   },
   {
    "duration": 3,
    "start_time": "2023-02-22T15:09:32.784Z"
   },
   {
    "duration": 143,
    "start_time": "2023-02-22T15:09:36.804Z"
   },
   {
    "duration": 2731,
    "start_time": "2023-02-22T15:09:52.736Z"
   },
   {
    "duration": 2272,
    "start_time": "2023-02-22T15:10:04.761Z"
   },
   {
    "duration": 23,
    "start_time": "2023-02-22T15:16:26.796Z"
   },
   {
    "duration": 10,
    "start_time": "2023-02-22T15:24:08.946Z"
   },
   {
    "duration": 1094,
    "start_time": "2023-02-22T15:24:47.873Z"
   },
   {
    "duration": 39,
    "start_time": "2023-02-22T15:24:48.969Z"
   },
   {
    "duration": 4,
    "start_time": "2023-02-22T15:24:49.009Z"
   },
   {
    "duration": 6,
    "start_time": "2023-02-22T15:24:49.015Z"
   },
   {
    "duration": 5,
    "start_time": "2023-02-22T15:24:49.023Z"
   },
   {
    "duration": 4,
    "start_time": "2023-02-22T15:24:49.030Z"
   },
   {
    "duration": 162,
    "start_time": "2023-02-22T15:24:49.035Z"
   },
   {
    "duration": 2648,
    "start_time": "2023-02-22T15:24:49.199Z"
   },
   {
    "duration": 2490,
    "start_time": "2023-02-22T15:24:51.848Z"
   },
   {
    "duration": 168,
    "start_time": "2023-02-22T15:24:54.343Z"
   },
   {
    "duration": 6,
    "start_time": "2023-02-22T15:24:54.513Z"
   },
   {
    "duration": 5,
    "start_time": "2023-02-22T15:27:18.780Z"
   },
   {
    "duration": 5,
    "start_time": "2023-02-22T15:30:42.466Z"
   },
   {
    "duration": 107,
    "start_time": "2023-02-22T15:56:02.553Z"
   },
   {
    "duration": 1046,
    "start_time": "2023-02-22T15:56:11.453Z"
   },
   {
    "duration": 43,
    "start_time": "2023-02-22T15:56:12.501Z"
   },
   {
    "duration": 3,
    "start_time": "2023-02-22T15:56:12.546Z"
   },
   {
    "duration": 7,
    "start_time": "2023-02-22T15:56:12.551Z"
   },
   {
    "duration": 5,
    "start_time": "2023-02-22T15:56:12.559Z"
   },
   {
    "duration": 4,
    "start_time": "2023-02-22T15:56:12.566Z"
   },
   {
    "duration": 144,
    "start_time": "2023-02-22T15:56:12.571Z"
   },
   {
    "duration": 2659,
    "start_time": "2023-02-22T15:56:12.717Z"
   },
   {
    "duration": 2350,
    "start_time": "2023-02-22T15:56:15.377Z"
   },
   {
    "duration": 186,
    "start_time": "2023-02-22T15:56:17.730Z"
   },
   {
    "duration": 6,
    "start_time": "2023-02-22T15:56:17.918Z"
   },
   {
    "duration": 127,
    "start_time": "2023-02-22T15:56:17.926Z"
   },
   {
    "duration": 947,
    "start_time": "2023-02-22T15:56:51.001Z"
   },
   {
    "duration": 1111,
    "start_time": "2023-02-22T16:00:21.899Z"
   },
   {
    "duration": 46,
    "start_time": "2023-02-22T16:00:23.012Z"
   },
   {
    "duration": 5,
    "start_time": "2023-02-22T16:00:23.062Z"
   },
   {
    "duration": 19,
    "start_time": "2023-02-22T16:00:23.070Z"
   },
   {
    "duration": 14,
    "start_time": "2023-02-22T16:00:23.092Z"
   },
   {
    "duration": 8,
    "start_time": "2023-02-22T16:00:23.108Z"
   },
   {
    "duration": 150,
    "start_time": "2023-02-22T16:00:23.118Z"
   },
   {
    "duration": 2690,
    "start_time": "2023-02-22T16:00:23.269Z"
   },
   {
    "duration": 2762,
    "start_time": "2023-02-22T16:00:25.960Z"
   },
   {
    "duration": 187,
    "start_time": "2023-02-22T16:00:28.725Z"
   },
   {
    "duration": 968,
    "start_time": "2023-02-22T16:00:28.914Z"
   },
   {
    "duration": 1501,
    "start_time": "2023-02-22T16:52:52.621Z"
   },
   {
    "duration": 167,
    "start_time": "2023-02-22T16:52:54.124Z"
   },
   {
    "duration": 4,
    "start_time": "2023-02-22T16:52:54.292Z"
   },
   {
    "duration": 6,
    "start_time": "2023-02-22T16:52:54.298Z"
   },
   {
    "duration": 5,
    "start_time": "2023-02-22T16:52:54.305Z"
   },
   {
    "duration": 6,
    "start_time": "2023-02-22T16:52:54.312Z"
   },
   {
    "duration": 5,
    "start_time": "2023-02-22T16:52:54.319Z"
   },
   {
    "duration": 148,
    "start_time": "2023-02-22T16:52:54.326Z"
   },
   {
    "duration": 2881,
    "start_time": "2023-02-22T16:52:54.476Z"
   },
   {
    "duration": 12729,
    "start_time": "2023-02-22T16:52:57.360Z"
   },
   {
    "duration": 110,
    "start_time": "2023-02-22T16:53:10.148Z"
   },
   {
    "duration": 961,
    "start_time": "2023-02-22T16:53:10.261Z"
   },
   {
    "duration": 55,
    "start_time": "2023-02-23T04:05:59.827Z"
   },
   {
    "duration": 1040,
    "start_time": "2023-02-23T04:06:50.721Z"
   },
   {
    "duration": 9,
    "start_time": "2023-02-23T04:07:11.590Z"
   },
   {
    "duration": 1173,
    "start_time": "2023-02-23T04:07:29.891Z"
   },
   {
    "duration": 145,
    "start_time": "2023-02-23T04:07:31.066Z"
   },
   {
    "duration": 3,
    "start_time": "2023-02-23T04:07:31.213Z"
   },
   {
    "duration": 60,
    "start_time": "2023-02-23T04:07:31.219Z"
   },
   {
    "duration": 42,
    "start_time": "2023-02-23T04:07:31.281Z"
   },
   {
    "duration": 46,
    "start_time": "2023-02-23T04:07:31.325Z"
   },
   {
    "duration": 24,
    "start_time": "2023-02-23T04:07:31.373Z"
   },
   {
    "duration": 186,
    "start_time": "2023-02-23T04:07:31.399Z"
   },
   {
    "duration": 2744,
    "start_time": "2023-02-23T04:07:31.587Z"
   },
   {
    "duration": 11338,
    "start_time": "2023-02-23T04:07:34.334Z"
   },
   {
    "duration": 109,
    "start_time": "2023-02-23T04:07:45.745Z"
   },
   {
    "duration": 952,
    "start_time": "2023-02-23T04:07:45.860Z"
   },
   {
    "duration": 105,
    "start_time": "2023-02-23T04:09:54.667Z"
   },
   {
    "duration": 2587,
    "start_time": "2023-02-23T04:10:12.689Z"
   },
   {
    "duration": 878,
    "start_time": "2023-02-23T04:56:56.693Z"
   },
   {
    "duration": 6,
    "start_time": "2023-02-23T04:57:36.463Z"
   },
   {
    "duration": 9,
    "start_time": "2023-02-23T04:58:00.457Z"
   },
   {
    "duration": 6,
    "start_time": "2023-02-23T04:58:08.298Z"
   },
   {
    "duration": 73,
    "start_time": "2023-02-23T05:00:17.678Z"
   },
   {
    "duration": 69,
    "start_time": "2023-02-23T05:00:22.775Z"
   },
   {
    "duration": 98,
    "start_time": "2023-02-23T05:00:28.273Z"
   },
   {
    "duration": 74,
    "start_time": "2023-02-23T05:00:36.891Z"
   },
   {
    "duration": 5,
    "start_time": "2023-02-23T05:10:20.625Z"
   },
   {
    "duration": 13,
    "start_time": "2023-02-23T05:10:47.026Z"
   },
   {
    "duration": 5,
    "start_time": "2023-02-23T05:12:27.662Z"
   },
   {
    "duration": 6,
    "start_time": "2023-02-23T05:12:32.338Z"
   },
   {
    "duration": 10,
    "start_time": "2023-02-23T05:16:37.563Z"
   },
   {
    "duration": 1161,
    "start_time": "2023-02-23T05:16:57.155Z"
   },
   {
    "duration": 14,
    "start_time": "2023-02-23T05:19:23.014Z"
   },
   {
    "duration": 61,
    "start_time": "2023-02-23T05:19:46.439Z"
   },
   {
    "duration": 61,
    "start_time": "2023-02-23T05:20:06.505Z"
   },
   {
    "duration": 9,
    "start_time": "2023-02-23T05:29:43.458Z"
   },
   {
    "duration": 1219,
    "start_time": "2023-02-23T05:41:26.967Z"
   },
   {
    "duration": 43,
    "start_time": "2023-02-23T05:41:28.188Z"
   },
   {
    "duration": 5,
    "start_time": "2023-02-23T05:41:28.234Z"
   },
   {
    "duration": 10,
    "start_time": "2023-02-23T05:41:28.241Z"
   },
   {
    "duration": 4,
    "start_time": "2023-02-23T05:41:28.253Z"
   },
   {
    "duration": 7,
    "start_time": "2023-02-23T05:41:28.259Z"
   },
   {
    "duration": 5,
    "start_time": "2023-02-23T05:41:28.267Z"
   },
   {
    "duration": 147,
    "start_time": "2023-02-23T05:41:28.274Z"
   },
   {
    "duration": 2684,
    "start_time": "2023-02-23T05:41:28.423Z"
   },
   {
    "duration": 4567,
    "start_time": "2023-02-23T05:41:31.109Z"
   },
   {
    "duration": 168,
    "start_time": "2023-02-23T05:41:35.678Z"
   },
   {
    "duration": 12,
    "start_time": "2023-02-23T05:41:35.848Z"
   },
   {
    "duration": 1370,
    "start_time": "2023-02-23T10:06:30.907Z"
   },
   {
    "duration": 83,
    "start_time": "2023-02-23T10:06:32.279Z"
   },
   {
    "duration": 4,
    "start_time": "2023-02-23T10:06:32.364Z"
   },
   {
    "duration": 8,
    "start_time": "2023-02-23T10:06:32.370Z"
   },
   {
    "duration": 4,
    "start_time": "2023-02-23T10:06:32.380Z"
   },
   {
    "duration": 8,
    "start_time": "2023-02-23T10:06:32.386Z"
   },
   {
    "duration": 8,
    "start_time": "2023-02-23T10:06:32.396Z"
   },
   {
    "duration": 136,
    "start_time": "2023-02-23T10:06:32.405Z"
   },
   {
    "duration": 2614,
    "start_time": "2023-02-23T10:06:32.543Z"
   },
   {
    "duration": 5544,
    "start_time": "2023-02-23T10:06:35.159Z"
   },
   {
    "duration": 104,
    "start_time": "2023-02-23T10:06:40.709Z"
   },
   {
    "duration": 7,
    "start_time": "2023-02-23T10:06:40.815Z"
   },
   {
    "duration": 9,
    "start_time": "2023-02-23T10:06:40.824Z"
   },
   {
    "duration": 6,
    "start_time": "2023-02-23T10:11:05.977Z"
   }
  ],
  "kernelspec": {
   "display_name": "Python 3 (ipykernel)",
   "language": "python",
   "name": "python3"
  },
  "language_info": {
   "codemirror_mode": {
    "name": "ipython",
    "version": 3
   },
   "file_extension": ".py",
   "mimetype": "text/x-python",
   "name": "python",
   "nbconvert_exporter": "python",
   "pygments_lexer": "ipython3",
   "version": "3.11.3"
  },
  "toc": {
   "base_numbering": 1,
   "nav_menu": {},
   "number_sections": true,
   "sideBar": true,
   "skip_h1_title": true,
   "title_cell": "Table of Contents",
   "title_sidebar": "Contents",
   "toc_cell": false,
   "toc_position": {},
   "toc_section_display": true,
   "toc_window_display": false
  }
 },
 "nbformat": 4,
 "nbformat_minor": 2
}
